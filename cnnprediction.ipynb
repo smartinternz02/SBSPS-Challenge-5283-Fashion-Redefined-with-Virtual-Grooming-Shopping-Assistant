{
 "cells": [
  {
   "cell_type": "code",
   "execution_count": 39,
   "id": "ec157126",
   "metadata": {},
   "outputs": [],
   "source": [
    "from keras.models import load_model\n",
    "from keras.preprocessing import image"
   ]
  },
  {
   "cell_type": "code",
   "execution_count": 40,
   "id": "8d694c7d",
   "metadata": {},
   "outputs": [],
   "source": [
    "model = load_model(\"Fasion.h5\")"
   ]
  },
  {
   "cell_type": "code",
   "execution_count": 41,
   "id": "60f5dc47",
   "metadata": {},
   "outputs": [],
   "source": [
    "img = image.load_img(r\"C:\\Users\\deepk\\OneDrive\\Desktop\\download.jpg\",target_size=(64,64))"
   ]
  },
  {
   "cell_type": "code",
   "execution_count": 42,
   "id": "7c1a3d1c",
   "metadata": {},
   "outputs": [],
   "source": [
    "import  numpy as np\n",
    "x = image.img_to_array(img)\n",
    "x = np.expand_dims(x,axis=0)"
   ]
  },
  {
   "cell_type": "code",
   "execution_count": 43,
   "id": "eb2a7b3c",
   "metadata": {},
   "outputs": [
    {
     "data": {
      "text/plain": [
       "(1, 64, 64, 3)"
      ]
     },
     "execution_count": 43,
     "metadata": {},
     "output_type": "execute_result"
    }
   ],
   "source": [
    "x.shape"
   ]
  },
  {
   "cell_type": "code",
   "execution_count": 44,
   "id": "5d108f5b",
   "metadata": {},
   "outputs": [],
   "source": [
    "pred = model.predict_classes(x)"
   ]
  },
  {
   "cell_type": "code",
   "execution_count": 45,
   "id": "1480453e",
   "metadata": {},
   "outputs": [
    {
     "data": {
      "text/plain": [
       "2"
      ]
     },
     "execution_count": 45,
     "metadata": {},
     "output_type": "execute_result"
    }
   ],
   "source": [
    "pred[0]"
   ]
  },
  {
   "cell_type": "code",
   "execution_count": 48,
   "id": "231a8f97",
   "metadata": {},
   "outputs": [],
   "source": [
    "index = ['Cosmetics','Foot Wears','Hand Bags and Luggage','Men Wear','Women Wear']"
   ]
  },
  {
   "cell_type": "code",
   "execution_count": 49,
   "id": "874b0db8",
   "metadata": {},
   "outputs": [
    {
     "name": "stdout",
     "output_type": "stream",
     "text": [
      "Hand Bags and Luggage\n"
     ]
    }
   ],
   "source": [
    "x = index[pred[0]]\n",
    "print(x)"
   ]
  },
  {
   "cell_type": "code",
   "execution_count": null,
   "id": "92372546",
   "metadata": {},
   "outputs": [],
   "source": []
  },
  {
   "cell_type": "code",
   "execution_count": null,
   "id": "c158434f",
   "metadata": {},
   "outputs": [],
   "source": []
  }
 ],
 "metadata": {
  "kernelspec": {
   "display_name": "Python 3",
   "language": "python",
   "name": "python3"
  },
  "language_info": {
   "codemirror_mode": {
    "name": "ipython",
    "version": 3
   },
   "file_extension": ".py",
   "mimetype": "text/x-python",
   "name": "python",
   "nbconvert_exporter": "python",
   "pygments_lexer": "ipython3",
   "version": "3.8.8"
  }
 },
 "nbformat": 4,
 "nbformat_minor": 5
}
