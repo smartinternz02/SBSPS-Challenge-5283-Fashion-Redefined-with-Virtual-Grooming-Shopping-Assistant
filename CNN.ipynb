{
 "cells": [
  {
   "cell_type": "code",
   "execution_count": 14,
   "id": "ff9c0d9e",
   "metadata": {},
   "outputs": [],
   "source": [
    "from tensorflow.keras.models import Sequential \n",
    "from tensorflow.keras.layers import Dense\n",
    "from tensorflow.keras.layers import Convolution2D \n",
    "from tensorflow.keras.layers import MaxPooling2D\n",
    "from tensorflow.keras.layers import Flatten"
   ]
  },
  {
   "cell_type": "code",
   "execution_count": 15,
   "id": "a7e210c1",
   "metadata": {},
   "outputs": [],
   "source": [
    "from tensorflow.keras.preprocessing.image import ImageDataGenerator\n",
    "train_datagen = ImageDataGenerator(rescale = 1./255,shear_range=0.2, zoom_range=0.2,horizontal_flip = True)\n",
    "test_datagen = ImageDataGenerator(rescale = 1./255)"
   ]
  },
  {
   "cell_type": "code",
   "execution_count": 16,
   "id": "f659fabb",
   "metadata": {},
   "outputs": [
    {
     "name": "stdout",
     "output_type": "stream",
     "text": [
      "Found 1900 images belonging to 5 classes.\n",
      "Found 466 images belonging to 5 classes.\n"
     ]
    }
   ],
   "source": [
    "x_train = train_datagen.flow_from_directory(r\"E:\\fashiondataset\\trainset\",target_size = (64,64),batch_size = 32 , class_mode=\"categorical\")\n",
    "x_test = test_datagen.flow_from_directory(r\"E:\\fashiondataset\\testset\",target_size = (64,64),batch_size = 32 , class_mode=\"categorical\")"
   ]
  },
  {
   "cell_type": "code",
   "execution_count": 17,
   "id": "e09486b1",
   "metadata": {},
   "outputs": [
    {
     "data": {
      "text/plain": [
       "{'Cosmetics': 0,\n",
       " 'Foot Wears': 1,\n",
       " 'Hand Bags and Luggage': 2,\n",
       " 'Men Wear': 3,\n",
       " 'Women Wear': 4}"
      ]
     },
     "execution_count": 17,
     "metadata": {},
     "output_type": "execute_result"
    }
   ],
   "source": [
    "x_train.class_indices"
   ]
  },
  {
   "cell_type": "code",
   "execution_count": 18,
   "id": "c7cf47e7",
   "metadata": {},
   "outputs": [],
   "source": [
    "model = Sequential()"
   ]
  },
  {
   "cell_type": "code",
   "execution_count": 19,
   "id": "ce77e2b6",
   "metadata": {},
   "outputs": [],
   "source": [
    "model.add(Convolution2D(32,(3,3),input_shape = (64,64,3),activation = \"relu\"))"
   ]
  },
  {
   "cell_type": "code",
   "execution_count": 20,
   "id": "14e03d2d",
   "metadata": {},
   "outputs": [],
   "source": [
    "model.add(MaxPooling2D(pool_size = (2,2)))"
   ]
  },
  {
   "cell_type": "code",
   "execution_count": 21,
   "id": "4ed46f54",
   "metadata": {},
   "outputs": [],
   "source": [
    "model.add(Flatten()) # input Layer of Ann"
   ]
  },
  {
   "cell_type": "code",
   "execution_count": 22,
   "id": "eca51b03",
   "metadata": {},
   "outputs": [],
   "source": [
    "model.add(Dense(units = 128,kernel_initializer = \"random_uniform\",activation = \"relu\"))"
   ]
  },
  {
   "cell_type": "code",
   "execution_count": 23,
   "id": "9032d6d9",
   "metadata": {},
   "outputs": [],
   "source": [
    "model.add(Dense(units = 128,kernel_initializer = \"random_uniform\",activation = \"relu\"))"
   ]
  },
  {
   "cell_type": "code",
   "execution_count": 24,
   "id": "ff65e100",
   "metadata": {},
   "outputs": [],
   "source": [
    "model.add(Dense(units = 5,kernel_initializer = \"random_uniform\",activation = \"softmax\"))"
   ]
  },
  {
   "cell_type": "code",
   "execution_count": 25,
   "id": "2f3606d5",
   "metadata": {},
   "outputs": [],
   "source": [
    "model.compile(loss = \"categorical_crossentropy\",optimizer = \"adam\", metrics = [\"accuracy\"])"
   ]
  },
  {
   "cell_type": "code",
   "execution_count": 26,
   "id": "24186365",
   "metadata": {},
   "outputs": [
    {
     "name": "stdout",
     "output_type": "stream",
     "text": [
      "Epoch 1/25\n",
      "59/59 [==============================] - 102s 2s/step - loss: 0.9728 - accuracy: 0.6156 - val_loss: 0.3715 - val_accuracy: 0.8839\n",
      "Epoch 2/25\n",
      "59/59 [==============================] - 55s 939ms/step - loss: 0.2956 - accuracy: 0.9010 - val_loss: 0.2533 - val_accuracy: 0.9107\n",
      "Epoch 3/25\n",
      "59/59 [==============================] - 55s 940ms/step - loss: 0.1953 - accuracy: 0.9315 - val_loss: 0.2921 - val_accuracy: 0.9018\n",
      "Epoch 4/25\n",
      "59/59 [==============================] - 130s 2s/step - loss: 0.1656 - accuracy: 0.9497 - val_loss: 0.1975 - val_accuracy: 0.9330\n",
      "Epoch 5/25\n",
      "59/59 [==============================] - 145s 2s/step - loss: 0.1207 - accuracy: 0.9588 - val_loss: 0.1438 - val_accuracy: 0.9554\n",
      "Epoch 6/25\n",
      "59/59 [==============================] - 68s 1s/step - loss: 0.1055 - accuracy: 0.9647 - val_loss: 0.1725 - val_accuracy: 0.9375\n",
      "Epoch 7/25\n",
      "59/59 [==============================] - 68s 1s/step - loss: 0.0859 - accuracy: 0.9727 - val_loss: 0.1844 - val_accuracy: 0.9286\n",
      "Epoch 8/25\n",
      "59/59 [==============================] - 69s 1s/step - loss: 0.0863 - accuracy: 0.9732 - val_loss: 0.1312 - val_accuracy: 0.9554\n",
      "Epoch 9/25\n",
      "59/59 [==============================] - 66s 1s/step - loss: 0.0745 - accuracy: 0.9781 - val_loss: 0.1642 - val_accuracy: 0.9420\n",
      "Epoch 10/25\n",
      "59/59 [==============================] - 62s 1s/step - loss: 0.0691 - accuracy: 0.9764 - val_loss: 0.2071 - val_accuracy: 0.9420\n",
      "Epoch 11/25\n",
      "59/59 [==============================] - 58s 976ms/step - loss: 0.0710 - accuracy: 0.9786 - val_loss: 0.1621 - val_accuracy: 0.9375\n",
      "Epoch 12/25\n",
      "59/59 [==============================] - 57s 972ms/step - loss: 0.0610 - accuracy: 0.9823 - val_loss: 0.2461 - val_accuracy: 0.9330\n",
      "Epoch 13/25\n",
      "59/59 [==============================] - 57s 964ms/step - loss: 0.0654 - accuracy: 0.9807 - val_loss: 0.1048 - val_accuracy: 0.9732\n",
      "Epoch 14/25\n",
      "59/59 [==============================] - 57s 966ms/step - loss: 0.0481 - accuracy: 0.9845 - val_loss: 0.1625 - val_accuracy: 0.9509\n",
      "Epoch 15/25\n",
      "59/59 [==============================] - 57s 977ms/step - loss: 0.0532 - accuracy: 0.9813 - val_loss: 0.1461 - val_accuracy: 0.9509\n",
      "Epoch 16/25\n",
      "59/59 [==============================] - 58s 980ms/step - loss: 0.0362 - accuracy: 0.9898 - val_loss: 0.1662 - val_accuracy: 0.9509\n",
      "Epoch 17/25\n",
      "59/59 [==============================] - 57s 973ms/step - loss: 0.0475 - accuracy: 0.9850 - val_loss: 0.1637 - val_accuracy: 0.9554\n",
      "Epoch 18/25\n",
      "59/59 [==============================] - 58s 986ms/step - loss: 0.0312 - accuracy: 0.9914 - val_loss: 0.1826 - val_accuracy: 0.9241\n",
      "Epoch 19/25\n",
      "59/59 [==============================] - 59s 1s/step - loss: 0.0512 - accuracy: 0.9823 - val_loss: 0.0702 - val_accuracy: 0.9777\n",
      "Epoch 20/25\n",
      "59/59 [==============================] - 58s 984ms/step - loss: 0.0490 - accuracy: 0.9839 - val_loss: 0.0926 - val_accuracy: 0.9777\n",
      "Epoch 21/25\n",
      "59/59 [==============================] - 58s 985ms/step - loss: 0.0278 - accuracy: 0.9936 - val_loss: 0.1366 - val_accuracy: 0.9509\n",
      "Epoch 22/25\n",
      "59/59 [==============================] - 58s 980ms/step - loss: 0.0383 - accuracy: 0.9866 - val_loss: 0.0585 - val_accuracy: 0.9777\n",
      "Epoch 23/25\n",
      "59/59 [==============================] - 58s 994ms/step - loss: 0.0271 - accuracy: 0.9920 - val_loss: 0.2730 - val_accuracy: 0.9286\n",
      "Epoch 24/25\n",
      "59/59 [==============================] - 58s 989ms/step - loss: 0.0291 - accuracy: 0.9893 - val_loss: 0.1952 - val_accuracy: 0.9554\n",
      "Epoch 25/25\n",
      "59/59 [==============================] - 58s 987ms/step - loss: 0.0378 - accuracy: 0.9893 - val_loss: 0.1452 - val_accuracy: 0.9286\n"
     ]
    },
    {
     "data": {
      "text/plain": [
       "<tensorflow.python.keras.callbacks.History at 0x1d835dc2ac0>"
      ]
     },
     "execution_count": 26,
     "metadata": {},
     "output_type": "execute_result"
    }
   ],
   "source": [
    "model.fit_generator(x_train , steps_per_epoch = 59 ,epochs=25,validation_data = x_test,validation_steps = 7)"
   ]
  },
  {
   "cell_type": "code",
   "execution_count": 27,
   "id": "7feda0f9",
   "metadata": {},
   "outputs": [],
   "source": [
    "model.save(\"Fasion.h5\")"
   ]
  },
  {
   "cell_type": "code",
   "execution_count": null,
   "id": "285f2ae5",
   "metadata": {},
   "outputs": [],
   "source": []
  }
 ],
 "metadata": {
  "kernelspec": {
   "display_name": "Python 3",
   "language": "python",
   "name": "python3"
  },
  "language_info": {
   "codemirror_mode": {
    "name": "ipython",
    "version": 3
   },
   "file_extension": ".py",
   "mimetype": "text/x-python",
   "name": "python",
   "nbconvert_exporter": "python",
   "pygments_lexer": "ipython3",
   "version": "3.8.8"
  }
 },
 "nbformat": 4,
 "nbformat_minor": 5
}
